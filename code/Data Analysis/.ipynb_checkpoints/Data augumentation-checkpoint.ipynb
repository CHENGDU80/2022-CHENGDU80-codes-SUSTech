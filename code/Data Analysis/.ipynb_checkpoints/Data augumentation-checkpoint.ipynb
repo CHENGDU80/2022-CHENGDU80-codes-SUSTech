{
 "cells": [
  {
   "cell_type": "code",
   "execution_count": 1,
   "id": "69b928b8",
   "metadata": {},
   "outputs": [],
   "source": [
    "import pandas as pd\n",
    "import numpy as np"
   ]
  },
  {
   "cell_type": "code",
   "execution_count": null,
   "id": "d1cab9c1",
   "metadata": {},
   "outputs": [],
   "source": []
  },
  {
   "cell_type": "code",
   "execution_count": null,
   "id": "8ebbeec8",
   "metadata": {},
   "outputs": [],
   "source": []
  },
  {
   "cell_type": "code",
   "execution_count": null,
   "id": "1d5a0f96",
   "metadata": {},
   "outputs": [],
   "source": [
    "import lightgbm as lgb\n",
    "\n",
    "X_train_part, X_val, y_train_part, y_val = train_test_split(X_train, y_train, test_size=0.2, random_state=100)\n",
    "train_dataset = lgb.Dataset(data=X_train_part,label=y_train_part)\n",
    "val_dataset = lgb.Dataset(data=X_val,label=y_val)\n",
    "\n",
    "param = {'num_leaves':40, 'num_trees':1600, 'objective':'binary','metric': ['auc', 'binary_logloss'],'is_unbalance':True}\n",
    "num_round = 30\n",
    "bst = lgb.train(param, train_dataset, num_round, valid_sets=[val_dataset])\n",
    "\n",
    "predict = bst.predict(X_test, num_iteration=bst.best_iteration)\n",
    "# accuracy = accuracy_score(y_test, predict)\n",
    "# f1_score_macro = f1_score(y_test, predict, average='macro')\n",
    "# f1_score_weighted = f1_score(y_test, predict, average='weighted')\n",
    "auc = roc_auc_score(y_test, predict)"
   ]
  },
  {
   "cell_type": "code",
   "execution_count": null,
   "id": "7a28959c",
   "metadata": {},
   "outputs": [],
   "source": []
  },
  {
   "cell_type": "code",
   "execution_count": null,
   "id": "276a34f0",
   "metadata": {},
   "outputs": [],
   "source": []
  },
  {
   "cell_type": "code",
   "execution_count": 3,
   "id": "9c78d9bd",
   "metadata": {},
   "outputs": [
    {
     "data": {
      "text/plain": [
       "0        3.242980e-05\n",
       "1        9.588500e-07\n",
       "2        9.612429e-08\n",
       "3        1.546975e-10\n",
       "4        5.672434e-07\n",
       "             ...     \n",
       "24495    2.264459e-06\n",
       "24496    2.144117e-07\n",
       "24497    4.493964e-08\n",
       "24498    4.025104e-05\n",
       "24499    1.446961e-06\n",
       "Name: 0, Length: 24500, dtype: float64"
      ]
     },
     "execution_count": 3,
     "metadata": {},
     "output_type": "execute_result"
    }
   ],
   "source": [
    "# Test TP\n",
    "\n",
    "predict = pd.read_csv(\"./result/lgb_v1.csv\")\n",
    "predict['0']"
   ]
  },
  {
   "cell_type": "code",
   "execution_count": 4,
   "id": "811f6876",
   "metadata": {},
   "outputs": [],
   "source": [
    "proba = predict['0'].tolist()"
   ]
  },
  {
   "cell_type": "code",
   "execution_count": 13,
   "id": "880a2492",
   "metadata": {},
   "outputs": [
    {
     "name": "stdout",
     "output_type": "stream",
     "text": [
      "11878\n",
      "15653\n",
      "15750\n"
     ]
    },
    {
     "data": {
      "text/plain": [
       "3"
      ]
     },
     "execution_count": 13,
     "metadata": {},
     "output_type": "execute_result"
    }
   ],
   "source": [
    "proba2label = []\n",
    "# index1 = []\n",
    "count0 = 0\n",
    "count1 = 0\n",
    "for i in range(len(proba)):\n",
    "    if proba[i] < 0.5:\n",
    "        proba2label.append(0)\n",
    "        count0 += 1\n",
    "    else:\n",
    "        proba2label.append(1)\n",
    "        count1 += 1\n",
    "        print(i)\n",
    "count1"
   ]
  },
  {
   "cell_type": "code",
   "execution_count": 8,
   "id": "676b39d4",
   "metadata": {},
   "outputs": [
    {
     "data": {
      "text/html": [
       "<div>\n",
       "<style scoped>\n",
       "    .dataframe tbody tr th:only-of-type {\n",
       "        vertical-align: middle;\n",
       "    }\n",
       "\n",
       "    .dataframe tbody tr th {\n",
       "        vertical-align: top;\n",
       "    }\n",
       "\n",
       "    .dataframe thead th {\n",
       "        text-align: right;\n",
       "    }\n",
       "</style>\n",
       "<table border=\"1\" class=\"dataframe\">\n",
       "  <thead>\n",
       "    <tr style=\"text-align: right;\">\n",
       "      <th></th>\n",
       "      <th>Unnamed: 0</th>\n",
       "      <th>DEFAULT_LABEL</th>\n",
       "    </tr>\n",
       "  </thead>\n",
       "  <tbody>\n",
       "    <tr>\n",
       "      <th>0</th>\n",
       "      <td>0</td>\n",
       "      <td>0</td>\n",
       "    </tr>\n",
       "    <tr>\n",
       "      <th>1</th>\n",
       "      <td>1</td>\n",
       "      <td>0</td>\n",
       "    </tr>\n",
       "    <tr>\n",
       "      <th>2</th>\n",
       "      <td>2</td>\n",
       "      <td>0</td>\n",
       "    </tr>\n",
       "    <tr>\n",
       "      <th>3</th>\n",
       "      <td>3</td>\n",
       "      <td>0</td>\n",
       "    </tr>\n",
       "    <tr>\n",
       "      <th>4</th>\n",
       "      <td>4</td>\n",
       "      <td>0</td>\n",
       "    </tr>\n",
       "    <tr>\n",
       "      <th>...</th>\n",
       "      <td>...</td>\n",
       "      <td>...</td>\n",
       "    </tr>\n",
       "    <tr>\n",
       "      <th>24495</th>\n",
       "      <td>24495</td>\n",
       "      <td>0</td>\n",
       "    </tr>\n",
       "    <tr>\n",
       "      <th>24496</th>\n",
       "      <td>24496</td>\n",
       "      <td>0</td>\n",
       "    </tr>\n",
       "    <tr>\n",
       "      <th>24497</th>\n",
       "      <td>24497</td>\n",
       "      <td>0</td>\n",
       "    </tr>\n",
       "    <tr>\n",
       "      <th>24498</th>\n",
       "      <td>24498</td>\n",
       "      <td>0</td>\n",
       "    </tr>\n",
       "    <tr>\n",
       "      <th>24499</th>\n",
       "      <td>24499</td>\n",
       "      <td>0</td>\n",
       "    </tr>\n",
       "  </tbody>\n",
       "</table>\n",
       "<p>24500 rows × 2 columns</p>\n",
       "</div>"
      ],
      "text/plain": [
       "       Unnamed: 0  DEFAULT_LABEL\n",
       "0               0              0\n",
       "1               1              0\n",
       "2               2              0\n",
       "3               3              0\n",
       "4               4              0\n",
       "...           ...            ...\n",
       "24495       24495              0\n",
       "24496       24496              0\n",
       "24497       24497              0\n",
       "24498       24498              0\n",
       "24499       24499              0\n",
       "\n",
       "[24500 rows x 2 columns]"
      ]
     },
     "execution_count": 8,
     "metadata": {},
     "output_type": "execute_result"
    }
   ],
   "source": [
    "y_test = pd.read_csv(\"./data/cleaned/y_test.csv\")\n",
    "y_test"
   ]
  },
  {
   "cell_type": "code",
   "execution_count": 9,
   "id": "38d31079",
   "metadata": {},
   "outputs": [],
   "source": [
    "truelabel = y_test['DEFAULT_LABEL'].tolist()"
   ]
  },
  {
   "cell_type": "code",
   "execution_count": 16,
   "id": "229df9d7",
   "metadata": {},
   "outputs": [],
   "source": [
    "index1 = []\n",
    "for i in range(len(truelabel)):\n",
    "    if truelabel[i] == 1:\n",
    "        index1.append(i)"
   ]
  },
  {
   "cell_type": "code",
   "execution_count": 21,
   "id": "0d04e51f",
   "metadata": {},
   "outputs": [],
   "source": [
    "tmp = [11878, 15653, 15750]"
   ]
  },
  {
   "cell_type": "code",
   "execution_count": 22,
   "id": "d9d60b3d",
   "metadata": {},
   "outputs": [
    {
     "data": {
      "text/plain": [
       "[]"
      ]
     },
     "execution_count": 22,
     "metadata": {},
     "output_type": "execute_result"
    }
   ],
   "source": [
    "list(set(index1).intersection(set(tmp)))"
   ]
  },
  {
   "cell_type": "code",
   "execution_count": null,
   "id": "d988d5e0",
   "metadata": {},
   "outputs": [],
   "source": []
  }
 ],
 "metadata": {
  "kernelspec": {
   "display_name": "cd80backup",
   "language": "python",
   "name": "cd80backup"
  },
  "language_info": {
   "codemirror_mode": {
    "name": "ipython",
    "version": 3
   },
   "file_extension": ".py",
   "mimetype": "text/x-python",
   "name": "python",
   "nbconvert_exporter": "python",
   "pygments_lexer": "ipython3",
   "version": "3.7.13"
  }
 },
 "nbformat": 4,
 "nbformat_minor": 5
}
