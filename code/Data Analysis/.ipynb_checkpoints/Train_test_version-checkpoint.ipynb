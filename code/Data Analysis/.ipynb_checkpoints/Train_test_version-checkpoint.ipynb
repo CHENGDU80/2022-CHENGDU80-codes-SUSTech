{
 "cells": [
  {
   "cell_type": "code",
   "execution_count": 8,
   "id": "50a1436b",
   "metadata": {},
   "outputs": [],
   "source": [
    "from sklearn.neighbors import KNeighborsClassifier\n",
    "from sklearn.metrics import roc_auc_score\n",
    "\n",
    "import pandas as pd\n",
    "from sklearn.metrics import accuracy_score\n",
    "from sklearn.metrics import precision_score\n",
    "from sklearn.metrics import recall_score\n",
    "from sklearn.metrics import f1_score\n"
   ]
  },
  {
   "cell_type": "code",
   "execution_count": 4,
   "id": "19f9fbd6",
   "metadata": {},
   "outputs": [],
   "source": [
    "X_test = pd.read_csv(\"./data/cleaned/X_test.csv\")\n",
    "y_test = pd.read_csv(\"./data/cleaned/y_test.csv\")\n",
    "X_train = pd.read_csv(\"./data/cleaned/X_train.csv\")\n",
    "y_train = pd.read_csv(\"./data/cleaned/y_train.csv\")\n",
    "\n",
    "X_train = X_train.drop(X_train.columns[[0]], axis = 1)\n",
    "y_train = y_train.drop(y_train.columns[[0]], axis = 1)\n",
    "X_test = X_test.drop(X_test.columns[[0]], axis = 1)\n",
    "y_test = y_test.drop(y_test.columns[[0]], axis = 1)"
   ]
  },
  {
   "cell_type": "code",
   "execution_count": 7,
   "id": "a8b3ad65",
   "metadata": {},
   "outputs": [
    {
     "name": "stderr",
     "output_type": "stream",
     "text": [
      "/home/ubuntu/anaconda3/envs/cd80backup/lib/python3.7/site-packages/sklearn/neighbors/_classification.py:198: DataConversionWarning: A column-vector y was passed when a 1d array was expected. Please change the shape of y to (n_samples,), for example using ravel().\n",
      "  return self._fit(X, y)\n",
      "/home/ubuntu/anaconda3/envs/cd80backup/lib/python3.7/site-packages/sklearn/neighbors/_classification.py:198: DataConversionWarning: A column-vector y was passed when a 1d array was expected. Please change the shape of y to (n_samples,), for example using ravel().\n",
      "  return self._fit(X, y)\n",
      "/home/ubuntu/anaconda3/envs/cd80backup/lib/python3.7/site-packages/sklearn/neighbors/_classification.py:198: DataConversionWarning: A column-vector y was passed when a 1d array was expected. Please change the shape of y to (n_samples,), for example using ravel().\n",
      "  return self._fit(X, y)\n",
      "/home/ubuntu/anaconda3/envs/cd80backup/lib/python3.7/site-packages/sklearn/neighbors/_classification.py:198: DataConversionWarning: A column-vector y was passed when a 1d array was expected. Please change the shape of y to (n_samples,), for example using ravel().\n",
      "  return self._fit(X, y)\n",
      "/home/ubuntu/anaconda3/envs/cd80backup/lib/python3.7/site-packages/sklearn/neighbors/_classification.py:198: DataConversionWarning: A column-vector y was passed when a 1d array was expected. Please change the shape of y to (n_samples,), for example using ravel().\n",
      "  return self._fit(X, y)\n",
      "/home/ubuntu/anaconda3/envs/cd80backup/lib/python3.7/site-packages/sklearn/neighbors/_classification.py:198: DataConversionWarning: A column-vector y was passed when a 1d array was expected. Please change the shape of y to (n_samples,), for example using ravel().\n",
      "  return self._fit(X, y)\n",
      "/home/ubuntu/anaconda3/envs/cd80backup/lib/python3.7/site-packages/sklearn/neighbors/_classification.py:198: DataConversionWarning: A column-vector y was passed when a 1d array was expected. Please change the shape of y to (n_samples,), for example using ravel().\n",
      "  return self._fit(X, y)\n",
      "/home/ubuntu/anaconda3/envs/cd80backup/lib/python3.7/site-packages/sklearn/neighbors/_classification.py:198: DataConversionWarning: A column-vector y was passed when a 1d array was expected. Please change the shape of y to (n_samples,), for example using ravel().\n",
      "  return self._fit(X, y)\n",
      "/home/ubuntu/anaconda3/envs/cd80backup/lib/python3.7/site-packages/sklearn/neighbors/_classification.py:198: DataConversionWarning: A column-vector y was passed when a 1d array was expected. Please change the shape of y to (n_samples,), for example using ravel().\n",
      "  return self._fit(X, y)\n",
      "/home/ubuntu/anaconda3/envs/cd80backup/lib/python3.7/site-packages/sklearn/neighbors/_classification.py:198: DataConversionWarning: A column-vector y was passed when a 1d array was expected. Please change the shape of y to (n_samples,), for example using ravel().\n",
      "  return self._fit(X, y)\n",
      "/home/ubuntu/anaconda3/envs/cd80backup/lib/python3.7/site-packages/sklearn/neighbors/_classification.py:198: DataConversionWarning: A column-vector y was passed when a 1d array was expected. Please change the shape of y to (n_samples,), for example using ravel().\n",
      "  return self._fit(X, y)\n",
      "/home/ubuntu/anaconda3/envs/cd80backup/lib/python3.7/site-packages/sklearn/neighbors/_classification.py:198: DataConversionWarning: A column-vector y was passed when a 1d array was expected. Please change the shape of y to (n_samples,), for example using ravel().\n",
      "  return self._fit(X, y)\n",
      "/home/ubuntu/anaconda3/envs/cd80backup/lib/python3.7/site-packages/sklearn/neighbors/_classification.py:198: DataConversionWarning: A column-vector y was passed when a 1d array was expected. Please change the shape of y to (n_samples,), for example using ravel().\n",
      "  return self._fit(X, y)\n",
      "/home/ubuntu/anaconda3/envs/cd80backup/lib/python3.7/site-packages/sklearn/neighbors/_classification.py:198: DataConversionWarning: A column-vector y was passed when a 1d array was expected. Please change the shape of y to (n_samples,), for example using ravel().\n",
      "  return self._fit(X, y)\n",
      "/home/ubuntu/anaconda3/envs/cd80backup/lib/python3.7/site-packages/sklearn/neighbors/_classification.py:198: DataConversionWarning: A column-vector y was passed when a 1d array was expected. Please change the shape of y to (n_samples,), for example using ravel().\n",
      "  return self._fit(X, y)\n",
      "/home/ubuntu/anaconda3/envs/cd80backup/lib/python3.7/site-packages/sklearn/neighbors/_classification.py:198: DataConversionWarning: A column-vector y was passed when a 1d array was expected. Please change the shape of y to (n_samples,), for example using ravel().\n",
      "  return self._fit(X, y)\n"
     ]
    },
    {
     "ename": "NameError",
     "evalue": "name 'accuracy_score' is not defined",
     "output_type": "error",
     "traceback": [
      "\u001b[0;31m---------------------------------------------------------------------------\u001b[0m",
      "\u001b[0;31mNameError\u001b[0m                                 Traceback (most recent call last)",
      "\u001b[0;32m/tmp/ipykernel_8953/1069423416.py\u001b[0m in \u001b[0;36m<module>\u001b[0;34m\u001b[0m\n\u001b[1;32m     16\u001b[0m \u001b[0;34m\u001b[0m\u001b[0m\n\u001b[1;32m     17\u001b[0m \u001b[0mpredict\u001b[0m \u001b[0;34m=\u001b[0m \u001b[0mclf_knn\u001b[0m\u001b[0;34m.\u001b[0m\u001b[0mpredict\u001b[0m\u001b[0;34m(\u001b[0m\u001b[0mX_test\u001b[0m\u001b[0;34m)\u001b[0m\u001b[0;34m\u001b[0m\u001b[0;34m\u001b[0m\u001b[0m\n\u001b[0;32m---> 18\u001b[0;31m \u001b[0maccuracy\u001b[0m \u001b[0;34m=\u001b[0m \u001b[0maccuracy_score\u001b[0m\u001b[0;34m(\u001b[0m\u001b[0my_test\u001b[0m\u001b[0;34m,\u001b[0m \u001b[0mpredict\u001b[0m\u001b[0;34m)\u001b[0m\u001b[0;34m\u001b[0m\u001b[0;34m\u001b[0m\u001b[0m\n\u001b[0m\u001b[1;32m     19\u001b[0m \u001b[0mf1_score_macro\u001b[0m \u001b[0;34m=\u001b[0m \u001b[0mf1_score\u001b[0m\u001b[0;34m(\u001b[0m\u001b[0my_test\u001b[0m\u001b[0;34m,\u001b[0m \u001b[0mpredict\u001b[0m\u001b[0;34m,\u001b[0m \u001b[0maverage\u001b[0m\u001b[0;34m=\u001b[0m\u001b[0;34m'macro'\u001b[0m\u001b[0;34m)\u001b[0m\u001b[0;34m\u001b[0m\u001b[0;34m\u001b[0m\u001b[0m\n\u001b[1;32m     20\u001b[0m \u001b[0mf1_score_weighted\u001b[0m \u001b[0;34m=\u001b[0m \u001b[0mf1_score\u001b[0m\u001b[0;34m(\u001b[0m\u001b[0my_test\u001b[0m\u001b[0;34m,\u001b[0m \u001b[0mpredict\u001b[0m\u001b[0;34m,\u001b[0m \u001b[0maverage\u001b[0m\u001b[0;34m=\u001b[0m\u001b[0;34m'weighted'\u001b[0m\u001b[0;34m)\u001b[0m\u001b[0;34m\u001b[0m\u001b[0;34m\u001b[0m\u001b[0m\n",
      "\u001b[0;31mNameError\u001b[0m: name 'accuracy_score' is not defined"
     ]
    }
   ],
   "source": [
    "clf_knn = KNeighborsClassifier()\n",
    "clf_knn.fit(X_train, y_train)\n",
    "test_results = []\n",
    "for n in range(1, 15):\n",
    "    clf_knn = KNeighborsClassifier(n_neighbors=n)\n",
    "    clf_knn.fit(X_train, y_train)\n",
    "    train_score = clf_knn.score(X_train, y_train)\n",
    "    test_score = clf_knn.score(X_test, y_test)\n",
    "    test_results.append(test_score)\n",
    "#     print(n,\":\",train_score, test_score)\n",
    "aim_n = test_results.index(max(test_results)) + 1\n",
    "clf_knn = KNeighborsClassifier(n_neighbors=aim_n)\n",
    "clf_knn.fit(X_train, y_train)\n",
    "train_score = clf_knn.score(X_train, y_train)\n",
    "test_score = clf_knn.score(X_test, y_test)\n",
    "\n",
    "predict = clf_knn.predict(X_test)\n",
    "accuracy = accuracy_score(y_test, predict)\n",
    "f1_score_macro = f1_score(y_test, predict, average='macro')\n",
    "f1_score_weighted = f1_score(y_test, predict, average='weighted')\n",
    "auc = roc_auc_score(y_test,clf_lr.predict_proba(X_test)[:, 1])\n",
    "\n",
    "compare_model = pd.DataFrame(data=[[\"KNN\", train_score, test_score, accuracy, f1_score_macro, f1_score_weighted, auc]],\n",
    "                                 columns=['Model', 'Training Accuracy %', 'Testing Accuracy %', 'Accuracy Score', 'F1_Score_Macro',\n",
    "                                          'F1_Score_Weighted', 'auc'])\n",
    "compare_model"
   ]
  },
  {
   "cell_type": "code",
   "execution_count": null,
   "id": "8cf99d58",
   "metadata": {},
   "outputs": [],
   "source": [
    "train_score = clf_knn.score(X_train, y_train)\n",
    "test_score = clf_knn.score(X_test, y_test)\n",
    "\n",
    "predict = clf_knn.predict(X_test)\n",
    "accuracy = accuracy_score(y_test, predict)\n",
    "f1_score_macro = f1_score(y_test, predict, average='macro')\n",
    "f1_score_weighted = f1_score(y_test, predict, average='weighted')\n",
    "auc = roc_auc_score(y_test,clf_lr.predict_proba(X_test)[:, 1])\n",
    "\n",
    "compare_model = pd.DataFrame(data=[[\"KNN\", train_score, test_score, accuracy, f1_score_macro, f1_score_weighted, auc]],\n",
    "                                 columns=['Model', 'Training Accuracy %', 'Testing Accuracy %', 'Accuracy Score', 'F1_Score_Macro',\n",
    "                                          'F1_Score_Weighted', 'auc'])\n",
    "compare_model"
   ]
  },
  {
   "cell_type": "code",
   "execution_count": null,
   "id": "b830959b",
   "metadata": {},
   "outputs": [],
   "source": []
  },
  {
   "cell_type": "code",
   "execution_count": null,
   "id": "546e89c2",
   "metadata": {},
   "outputs": [],
   "source": []
  }
 ],
 "metadata": {
  "kernelspec": {
   "display_name": "cd80backup",
   "language": "python",
   "name": "cd80backup"
  },
  "language_info": {
   "codemirror_mode": {
    "name": "ipython",
    "version": 3
   },
   "file_extension": ".py",
   "mimetype": "text/x-python",
   "name": "python",
   "nbconvert_exporter": "python",
   "pygments_lexer": "ipython3",
   "version": "3.7.13"
  }
 },
 "nbformat": 4,
 "nbformat_minor": 5
}
